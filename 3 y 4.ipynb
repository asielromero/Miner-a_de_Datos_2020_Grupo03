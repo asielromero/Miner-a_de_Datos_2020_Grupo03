{
 "cells": [
  {
   "cell_type": "markdown",
   "metadata": {},
   "source": [
    "EJERCICIO 3: Diccionarios"
   ]
  },
  {
   "cell_type": "code",
   "execution_count": null,
   "metadata": {},
   "outputs": [],
   "source": [
    "Familia={'Aurelio':60,'Carmen':59,'Carlos':30,'Natalia':29,'Marco':23,'Mildred':14}\n",
    "Edades=[Familia['Aurelio'],Familia['Carmen'],Familia['Carlos'],Familia['Natalia'],Familia['Marco'],Familia['Mildred']]\n",
    "Edades.sort()\n",
    " \n",
    "for Nombres in Familia:\n",
    "    print(Nombres) \n",
    "    \n",
    "Familia['Hugo']=31\n",
    "Familia['Gaby']=29"
   ]
  },
  {
   "cell_type": "markdown",
   "metadata": {},
   "source": [
    "EJERCICIO 4:"
   ]
  },
  {
   "cell_type": "code",
   "execution_count": null,
   "metadata": {},
   "outputs": [],
   "source": [
    "import random\n",
    "\n",
    "Set1_25=set()\n",
    "\n",
    "for i in range(100):\n",
    "    Set1_25.add(random.randint(1,25))\n",
    "    \n",
    "print(Set1_25)\n",
    "print(len(Set1_25))\n",
    "\n",
    "Set1_10=set()\n",
    "\n",
    "for i in range(6):\n",
    "    Set1_10.add(random.randint(1,10))\n",
    "print(Set1_10)\n",
    "\n",
    "print(Set1_10.issubset(Set1_25))"
   ]
  }
 ],
 "metadata": {
  "kernelspec": {
   "display_name": "Python 3",
   "language": "python",
   "name": "python3"
  },
  "language_info": {
   "codemirror_mode": {
    "name": "ipython",
    "version": 3
   },
   "file_extension": ".py",
   "mimetype": "text/x-python",
   "name": "python",
   "nbconvert_exporter": "python",
   "pygments_lexer": "ipython3",
   "version": "3.8.3"
  }
 },
 "nbformat": 4,
 "nbformat_minor": 4
}
