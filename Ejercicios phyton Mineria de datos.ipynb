{
 "cells": [
  {
   "cell_type": "markdown",
   "metadata": {},
   "source": [
    "Importación de librerías"
   ]
  },
  {
   "cell_type": "code",
   "execution_count": 1,
   "metadata": {},
   "outputs": [],
   "source": [
    "import pandas as pd\n",
    "import seaborn as sns\n",
    "from matplotlib import pyplot as plt"
   ]
  },
  {
   "cell_type": "markdown",
   "metadata": {},
   "source": [
    "Importación de bases de datos (Uso de varias bases por su utilidad en conjunto)"
   ]
  },
  {
   "cell_type": "code",
   "execution_count": 2,
   "metadata": {},
   "outputs": [],
   "source": [
    "datos_coverage=pd.read_excel('Coverage.xlsx') #Base de datos con descripción de coberturas\n",
    "datos_diseases=pd.read_excel('Diseases.xlsx') #Base de datos de número de reclamaciones por asegurado\n",
    "datos_2015=pd.read_excel('2015.xlsx')         #Base de datos de pagos por Tipo y Grupo del año 2015\n",
    "datos_2016=pd.read_excel('2016.xlsx')         #Base de datos de pagos por Tipo y Grupo del año 2016\n",
    "datos_2017=pd.read_excel('2017.xlsx')         #Base de datos de pagos por Tipo y Grupo del año 2017\n",
    "datos_2018=pd.read_excel('2018.xlsx')         #Base de datos de pagos por Tipo y Grupo del año 2018\n",
    "datos_all=pd.read_excel('Assurance.xlsx')     #Base de datos con toda la información anterior"
   ]
  },
  {
   "cell_type": "code",
   "execution_count": 18,
   "metadata": {},
   "outputs": [
    {
     "name": "stdout",
     "output_type": "stream",
     "text": [
      "  Group  Deductible  Coinsurance  Policy limit\n",
      "0     I        5000         0.05      200000.0\n",
      "1    II       10000         0.05      500000.0\n",
      "2   III       20000         0.10     1000000.0\n",
      "3    IV       30000         0.10    10000000.0\n",
      "4     V       50000         0.10           NaN\n"
     ]
    }
   ],
   "source": [
    "print(datos_coverage)"
   ]
  },
  {
   "cell_type": "code",
   "execution_count": 19,
   "metadata": {},
   "outputs": [
    {
     "name": "stdout",
     "output_type": "stream",
     "text": [
      "     Subject  Number of claims\n",
      "0          1                 2\n",
      "1          2                 0\n",
      "2          3                 1\n",
      "3          4                 0\n",
      "4          5                 0\n",
      "..       ...               ...\n",
      "995      996                 3\n",
      "996      997                 0\n",
      "997      998                 0\n",
      "998      999                 1\n",
      "999     1000                 0\n",
      "\n",
      "[1000 rows x 2 columns]\n"
     ]
    }
   ],
   "source": [
    "print(datos_diseases)"
   ]
  },
  {
   "cell_type": "code",
   "execution_count": 20,
   "metadata": {},
   "outputs": [
    {
     "name": "stdout",
     "output_type": "stream",
     "text": [
      "      Año       Tipo Grupo    Pago\n",
      "0    2015   Subaguda     I    1079\n",
      "1    2015   Subaguda     I   25557\n",
      "2    2015  Accidente     I   27475\n",
      "3    2015  Accidente     I   23748\n",
      "4    2015  Accidente     I   16071\n",
      "..    ...        ...   ...     ...\n",
      "343  2015      Aguda     I    2339\n",
      "344  2015  Accidente     I    2416\n",
      "345  2015  Accidente    II    2393\n",
      "346  2015  Accidente     I   99863\n",
      "347  2015    Crítico    II  500000\n",
      "\n",
      "[348 rows x 4 columns]\n"
     ]
    }
   ],
   "source": [
    "print(datos_2015)"
   ]
  },
  {
   "cell_type": "code",
   "execution_count": 21,
   "metadata": {},
   "outputs": [
    {
     "name": "stdout",
     "output_type": "stream",
     "text": [
      "      Año       Tipo Grupo   Pago\n",
      "0    2016  Accidente     I   3627\n",
      "1    2016  Accidente     I  51086\n",
      "2    2016  Accidente     I   8236\n",
      "3    2016   Subaguda     I   9566\n",
      "4    2016  Accidente     I   5986\n",
      "..    ...        ...   ...    ...\n",
      "360  2016   Subaguda     I  31976\n",
      "361  2016  Accidente     I   5907\n",
      "362  2016   Subaguda     I  30523\n",
      "363  2016  Accidente     I   1806\n",
      "364  2016   Subaguda     I  29543\n",
      "\n",
      "[365 rows x 4 columns]\n"
     ]
    }
   ],
   "source": [
    "print(datos_2016)"
   ]
  },
  {
   "cell_type": "code",
   "execution_count": 22,
   "metadata": {},
   "outputs": [
    {
     "name": "stdout",
     "output_type": "stream",
     "text": [
      "      Año       Tipo Grupo    Pago\n",
      "0    2017    Crítico     I  200000\n",
      "1    2017    Crítico     I  200000\n",
      "2    2017    Crítico     I   34104\n",
      "3    2017  Accidente     I   77842\n",
      "4    2017  Accidente     I    3230\n",
      "..    ...        ...   ...     ...\n",
      "389  2017    Crítico   III  507363\n",
      "390  2017  Accidente     I    4358\n",
      "391  2017    Crítico     I  200000\n",
      "392  2017  Accidente     I   55870\n",
      "393  2017   Subaguda     I    3017\n",
      "\n",
      "[394 rows x 4 columns]\n"
     ]
    }
   ],
   "source": [
    "print(datos_2017)"
   ]
  },
  {
   "cell_type": "code",
   "execution_count": 23,
   "metadata": {},
   "outputs": [
    {
     "name": "stdout",
     "output_type": "stream",
     "text": [
      "      Año       Tipo Grupo   Pago\n",
      "0    2018  Accidente     I  19198\n",
      "1    2018   Subaguda     I  33556\n",
      "2    2018   Subaguda    II   9202\n",
      "3    2018  Accidente     I   2959\n",
      "4    2018    Crítico     I  10267\n",
      "..    ...        ...   ...    ...\n",
      "335  2018   Subaguda     I  13398\n",
      "336  2018   Subaguda     I   7731\n",
      "337  2018  Accidente     I   4522\n",
      "338  2018  Accidente     I   5276\n",
      "339  2018  Accidente     I   1511\n",
      "\n",
      "[340 rows x 4 columns]\n"
     ]
    }
   ],
   "source": [
    "print(datos_2018)"
   ]
  },
  {
   "cell_type": "code",
   "execution_count": 24,
   "metadata": {},
   "outputs": [
    {
     "name": "stdout",
     "output_type": "stream",
     "text": [
      "       Año       Tipo Grupo   Pago  Unnamed: 4  Subject  Number of claims  \\\n",
      "0     2015   Subaguda     I   1079         NaN      1.0               2.0   \n",
      "1     2015   Subaguda     I  25557         NaN      2.0               0.0   \n",
      "2     2015  Accidente     I  27475         NaN      3.0               1.0   \n",
      "3     2015  Accidente     I  23748         NaN      4.0               0.0   \n",
      "4     2015  Accidente     I  16071         NaN      5.0               0.0   \n",
      "...    ...        ...   ...    ...         ...      ...               ...   \n",
      "1442  2018   Subaguda     I  13398         NaN      NaN               NaN   \n",
      "1443  2018   Subaguda     I   7731         NaN      NaN               NaN   \n",
      "1444  2018  Accidente     I   4522         NaN      NaN               NaN   \n",
      "1445  2018  Accidente     I   5276         NaN      NaN               NaN   \n",
      "1446  2018  Accidente     I   1511         NaN      NaN               NaN   \n",
      "\n",
      "      Unnamed: 7 Group  Deductible  Coinsurance  Policy limit  \n",
      "0            NaN     I      5000.0         0.05      200000.0  \n",
      "1            NaN    II     10000.0         0.05      500000.0  \n",
      "2            NaN   III     20000.0         0.10     1000000.0  \n",
      "3            NaN    IV     30000.0         0.10    10000000.0  \n",
      "4            NaN     V     50000.0         0.10           NaN  \n",
      "...          ...   ...         ...          ...           ...  \n",
      "1442         NaN   NaN         NaN          NaN           NaN  \n",
      "1443         NaN   NaN         NaN          NaN           NaN  \n",
      "1444         NaN   NaN         NaN          NaN           NaN  \n",
      "1445         NaN   NaN         NaN          NaN           NaN  \n",
      "1446         NaN   NaN         NaN          NaN           NaN  \n",
      "\n",
      "[1447 rows x 12 columns]\n"
     ]
    }
   ],
   "source": [
    "print(datos_all)"
   ]
  },
  {
   "cell_type": "markdown",
   "metadata": {},
   "source": [
    "Cambio de nombre a una columna"
   ]
  },
  {
   "cell_type": "code",
   "execution_count": 3,
   "metadata": {},
   "outputs": [
    {
     "data": {
      "text/html": [
       "<div>\n",
       "<style scoped>\n",
       "    .dataframe tbody tr th:only-of-type {\n",
       "        vertical-align: middle;\n",
       "    }\n",
       "\n",
       "    .dataframe tbody tr th {\n",
       "        vertical-align: top;\n",
       "    }\n",
       "\n",
       "    .dataframe thead th {\n",
       "        text-align: right;\n",
       "    }\n",
       "</style>\n",
       "<table border=\"1\" class=\"dataframe\">\n",
       "  <thead>\n",
       "    <tr style=\"text-align: right;\">\n",
       "      <th></th>\n",
       "      <th>Subject</th>\n",
       "      <th>Frecuencia</th>\n",
       "    </tr>\n",
       "  </thead>\n",
       "  <tbody>\n",
       "    <tr>\n",
       "      <th>0</th>\n",
       "      <td>1</td>\n",
       "      <td>2</td>\n",
       "    </tr>\n",
       "    <tr>\n",
       "      <th>1</th>\n",
       "      <td>2</td>\n",
       "      <td>0</td>\n",
       "    </tr>\n",
       "    <tr>\n",
       "      <th>2</th>\n",
       "      <td>3</td>\n",
       "      <td>1</td>\n",
       "    </tr>\n",
       "    <tr>\n",
       "      <th>3</th>\n",
       "      <td>4</td>\n",
       "      <td>0</td>\n",
       "    </tr>\n",
       "    <tr>\n",
       "      <th>4</th>\n",
       "      <td>5</td>\n",
       "      <td>0</td>\n",
       "    </tr>\n",
       "    <tr>\n",
       "      <th>...</th>\n",
       "      <td>...</td>\n",
       "      <td>...</td>\n",
       "    </tr>\n",
       "    <tr>\n",
       "      <th>995</th>\n",
       "      <td>996</td>\n",
       "      <td>3</td>\n",
       "    </tr>\n",
       "    <tr>\n",
       "      <th>996</th>\n",
       "      <td>997</td>\n",
       "      <td>0</td>\n",
       "    </tr>\n",
       "    <tr>\n",
       "      <th>997</th>\n",
       "      <td>998</td>\n",
       "      <td>0</td>\n",
       "    </tr>\n",
       "    <tr>\n",
       "      <th>998</th>\n",
       "      <td>999</td>\n",
       "      <td>1</td>\n",
       "    </tr>\n",
       "    <tr>\n",
       "      <th>999</th>\n",
       "      <td>1000</td>\n",
       "      <td>0</td>\n",
       "    </tr>\n",
       "  </tbody>\n",
       "</table>\n",
       "<p>1000 rows × 2 columns</p>\n",
       "</div>"
      ],
      "text/plain": [
       "     Subject  Frecuencia\n",
       "0          1           2\n",
       "1          2           0\n",
       "2          3           1\n",
       "3          4           0\n",
       "4          5           0\n",
       "..       ...         ...\n",
       "995      996           3\n",
       "996      997           0\n",
       "997      998           0\n",
       "998      999           1\n",
       "999     1000           0\n",
       "\n",
       "[1000 rows x 2 columns]"
      ]
     },
     "execution_count": 3,
     "metadata": {},
     "output_type": "execute_result"
    }
   ],
   "source": [
    "datos_diseases.rename(columns = {'Number of claims':'Frecuencia'})"
   ]
  },
  {
   "cell_type": "markdown",
   "metadata": {},
   "source": [
    "Tipos de datos"
   ]
  },
  {
   "cell_type": "code",
   "execution_count": 17,
   "metadata": {},
   "outputs": [
    {
     "data": {
      "text/plain": [
       "Año                   int64\n",
       "Tipo                 object\n",
       "Grupo                object\n",
       "Pago                  int64\n",
       "Unnamed: 4          float64\n",
       "Subject             float64\n",
       "Number of claims    float64\n",
       "Unnamed: 7          float64\n",
       "Group                object\n",
       "Deductible          float64\n",
       "Coinsurance         float64\n",
       "Policy limit        float64\n",
       "dtype: object"
      ]
     },
     "execution_count": 17,
     "metadata": {},
     "output_type": "execute_result"
    }
   ],
   "source": [
    "datos_all.dtypes"
   ]
  },
  {
   "cell_type": "markdown",
   "metadata": {},
   "source": [
    "Estudio de estadísticos con agrupaciones y respectiva gráfica."
   ]
  },
  {
   "cell_type": "code",
   "execution_count": 16,
   "metadata": {},
   "outputs": [
    {
     "name": "stdout",
     "output_type": "stream",
     "text": [
      "                             2015               2016                2017  \\\n",
      "Total de pagos     $12,012,429.00     $13,457,942.00      $21,203,646.00   \n",
      "Varianza        $4,423,734,267.89  $4,668,302,850.29  $18,743,166,071.05   \n",
      "Media                  $34,518.47         $36,871.07          $53,816.36   \n",
      "Máximo                $500,000.00        $500,000.00       $1,786,068.00   \n",
      "Mínimo                     $25.00             $30.00              $78.00   \n",
      "\n",
      "                              2018  \n",
      "Total de pagos      $14,981,953.00  \n",
      "Varianza        $11,668,802,704.94  \n",
      "Media                   $44,064.57  \n",
      "Máximo               $1,000,000.00  \n",
      "Mínimo                      $30.00  \n"
     ]
    },
    {
     "data": {
      "text/plain": [
       "<matplotlib.axes._subplots.AxesSubplot at 0x1ab8e9bf130>"
      ]
     },
     "execution_count": 16,
     "metadata": {},
     "output_type": "execute_result"
    },
    {
     "data": {
      "image/png": "[encoded data removed]",
      "text/plain": [
       "<Figure size 432x288 with 1 Axes>"
      ]
     },
     "metadata": {
      "needs_background": "light"
     },
     "output_type": "display_data"
    }
   ],
   "source": [
    "Estadisticos={'2015':['${:,.2f}'.format(datos_2015['Pago'].sum()),'${:,.2f}'.format(datos_2015['Pago'].var()),\n",
    "                      '${:,.2f}'.format(datos_2015['Pago'].mean()),'${:,.2f}'.format(datos_2015['Pago'].max()),\n",
    "                      '${:,.2f}'.format(datos_2015['Pago'].min())],\n",
    "              '2016':['${:,.2f}'.format(datos_2016['Pago'].sum()),'${:,.2f}'.format(datos_2016['Pago'].var()),\n",
    "                      '${:,.2f}'.format(datos_2016['Pago'].mean()),'${:,.2f}'.format(datos_2016['Pago'].max()),\n",
    "                      '${:,.2f}'.format(datos_2016['Pago'].min())],\n",
    "              '2017':['${:,.2f}'.format(datos_2017['Pago'].sum()),'${:,.2f}'.format(datos_2017['Pago'].var()),\n",
    "                      '${:,.2f}'.format(datos_2017['Pago'].mean()),'${:,.2f}'.format(datos_2017['Pago'].max()),\n",
    "                      '${:,.2f}'.format(datos_2017['Pago'].min())],\n",
    "              '2018':['${:,.2f}'.format(datos_2018['Pago'].sum()),'${:,.2f}'.format(datos_2018['Pago'].var()),\n",
    "                      '${:,.2f}'.format(datos_2018['Pago'].mean()),'${:,.2f}'.format(datos_2018['Pago'].max()),\n",
    "                      '${:,.2f}'.format(datos_2018['Pago'].min())],}\n",
    "\n",
    "Estadisticos_plot={'2015':[datos_2015['Pago'].sum()/10**6,datos_2015['Pago'].var()/10**9,datos_2015['Pago'].mean()/1000,\n",
    "                      datos_2015['Pago'].max()/10000,datos_2015['Pago'].min()],\n",
    "              '2016':[datos_2016['Pago'].sum()/10**6,datos_2016['Pago'].var()/10**9,datos_2016['Pago'].mean()/1000,\n",
    "                      datos_2016['Pago'].max()/10000,datos_2016['Pago'].min()],\n",
    "              '2017':[datos_2017['Pago'].sum()/10**6,datos_2017['Pago'].var()/10**9,datos_2017['Pago'].mean()/1000,\n",
    "                      datos_2017['Pago'].max()/10000,datos_2017['Pago'].min()],\n",
    "              '2018':[datos_2018['Pago'].sum()/10**6,datos_2018['Pago'].var()/10**9,datos_2018['Pago'].mean()/1000,\n",
    "                      datos_2018['Pago'].max()/10000,datos_2018['Pago'].min()],}\n",
    "\n",
    "Estadisticos_frame=pd.DataFrame(Estadisticos, index=['Total de pagos','Varianza','Media','Máximo','Mínimo'])\n",
    "\n",
    "Estadisticos_plot_frame=pd.DataFrame(Estadisticos_plot, \n",
    "            index=['Total de pagos(millones)','Varianza(miles de millones)','Media(miles)','Máximo(decenas de miles)','Mínimo'])\n",
    "\n",
    "print(Estadisticos_frame)\n",
    "Estadisticos_plot_frame.plot.bar()"
   ]
  },
  {
   "cell_type": "markdown",
   "metadata": {},
   "source": [
    "Conclusión de algunos estadísticos"
   ]
  },
  {
   "cell_type": "code",
   "execution_count": 11,
   "metadata": {},
   "outputs": [
    {
     "name": "stdout",
     "output_type": "stream",
     "text": [
      "La cantidad monetaria que la aseguradora pagó de un grupo de 1000 asegurados en el 2015 fue de: $12,012,429.00\n",
      "La cantidad monetaria que la aseguradora pagó de un grupo de 1000  asegurados en el 2016 fue de: $13,457,942.00\n",
      "La cantidad monetaria que la aseguradora pagó de un grupo de 1000  asegurados en el 2017 fue de: $21,203,646.00\n",
      "La cantidad monetaria que la aseguradora pagó de un grupo de 1000  asegurados en el 2018 fue de: $14,981,953.00\n",
      "\n",
      "La cantidad monetaria que la aseguradora pagó de un grupo de 1000 asegurados en el 2015 fue de: $34,518.47\n",
      "La cantidad monetaria que la aseguradora pagó de un grupo de 1000  asegurados en el 2016 fue de: $36,871.07\n",
      "La cantidad monetaria que la aseguradora pagó de un grupo de 1000  asegurados en el 2017 fue de: $53,816.36\n",
      "La cantidad monetaria que la aseguradora pagó de un grupo de 1000  asegurados en el 2018 fue de: $44,064.57\n"
     ]
    }
   ],
   "source": [
    "print('La cantidad monetaria que la aseguradora pagó de un grupo de 1000 asegurados en el 2015 fue de: ${:,.2f}'\n",
    "      .format(datos_2015['Pago'].sum()))\n",
    "print('La cantidad monetaria que la aseguradora pagó de un grupo de 1000  asegurados en el 2016 fue de: ${:,.2f}'\n",
    "      .format(datos_2016['Pago'].sum()))\n",
    "print('La cantidad monetaria que la aseguradora pagó de un grupo de 1000  asegurados en el 2017 fue de: ${:,.2f}'\n",
    "      .format(datos_2017['Pago'].sum()))\n",
    "print('La cantidad monetaria que la aseguradora pagó de un grupo de 1000  asegurados en el 2018 fue de: ${:,.2f}'\n",
    "      .format(datos_2018['Pago'].sum()))\n",
    "print('')\n",
    "print('La cantidad monetaria que la aseguradora pagó de un grupo de 1000 asegurados en el 2015 fue de: ${:,.2f}'\n",
    "      .format(datos_2015['Pago'].mean()))\n",
    "print('La cantidad monetaria que la aseguradora pagó de un grupo de 1000  asegurados en el 2016 fue de: ${:,.2f}'\n",
    "      .format(datos_2016['Pago'].mean()))\n",
    "print('La cantidad monetaria que la aseguradora pagó de un grupo de 1000  asegurados en el 2017 fue de: ${:,.2f}'\n",
    "      .format(datos_2017['Pago'].mean()))\n",
    "print('La cantidad monetaria que la aseguradora pagó de un grupo de 1000  asegurados en el 2018 fue de: ${:,.2f}'\n",
    "      .format(datos_2018['Pago'].mean()))"
   ]
  },
  {
   "cell_type": "markdown",
   "metadata": {},
   "source": [
    "GRÁFICA 1:"
   ]
  },
  {
   "cell_type": "code",
   "execution_count": 6,
   "metadata": {},
   "outputs": [
    {
     "data": {
      "image/png": "[encoded data removed]",
      "text/plain": [
       "<Figure size 432x288 with 1 Axes>"
      ]
     },
     "metadata": {
      "needs_background": "light"
     },
     "output_type": "display_data"
    }
   ],
   "source": [
    "plt.plot(datos_2015['Año'],datos_2015['Pago']/10**6)\n",
    "plt.plot(datos_2016['Año'],datos_2016['Pago']/10**6)\n",
    "plt.plot(datos_2017['Año'],datos_2017['Pago']/10**6)\n",
    "plt.plot(datos_2018['Año'],datos_2018['Pago']/10**6)\n",
    "plt.legend(['2015','2016','2017','2018'])\n",
    "plt.xlabel('Año')\n",
    "plt.ylabel('Pago en millones de pesos')\n",
    "plt.show()"
   ]
  },
  {
   "cell_type": "markdown",
   "metadata": {},
   "source": [
    "Conclusión: Se puede observar fácilmente que en el año 2017 el valor máximo de las reclamaciones es casi el doble que el segundo año con mayor monto de reclamación"
   ]
  },
  {
   "cell_type": "markdown",
   "metadata": {},
   "source": [
    "GRÁFICA 2:"
   ]
  },
  {
   "cell_type": "code",
   "execution_count": 7,
   "metadata": {},
   "outputs": [
    {
     "data": {
      "image/png": "[encoded data removed]",
      "text/plain": [
       "<Figure size 720x576 with 1 Axes>"
      ]
     },
     "metadata": {
      "needs_background": "light"
     },
     "output_type": "display_data"
    }
   ],
   "source": [
    "plt.figure(figsize=(10, 8))\n",
    "plt.scatter(datos_2015['Pago']/10**6, datos_2015['Pago']/10**6, \n",
    "            c='red', label='2015')\n",
    "plt.scatter(datos_2016['Pago']/10**6, datos_2016['Pago']/10**6, \n",
    "            c='green', label='2016')\n",
    "plt.scatter(datos_2017['Pago']/10**6, datos_2017['Pago']/10**6, \n",
    "            c='blue', label='2017')\n",
    "plt.scatter(datos_2018['Pago']/10**6, datos_2018['Pago']/10**6, \n",
    "            c='yellow', label='2018')\n",
    "plt.legend(['2015','2016','2017','2018'])\n",
    "plt.title('Reclamaciones por millones de pesos')\n",
    "#plt.xlabel('Cantidad')\n",
    "#plt.ylabel('Monto de la reclamación')\n",
    "plt.show()"
   ]
  },
  {
   "cell_type": "markdown",
   "metadata": {},
   "source": [
    "Conclusión: Se puede observar que todas las reclamaciones de los 4 años mantienen un promedio adecuado excepto por el año 2018, el cual parece ser muy abajo en el mínimo pago y muy alto en el máximo, sin embargo, el año 2017 tiene un solo dato tan atípico que hace demasiado grande la varianza conforme lo normal."
   ]
  },
  {
   "cell_type": "markdown",
   "metadata": {},
   "source": [
    "GRÁFICA 3:"
   ]
  },
  {
   "cell_type": "code",
   "execution_count": 8,
   "metadata": {},
   "outputs": [
    {
     "data": {
      "text/plain": [
       "<matplotlib.legend.Legend at 0x1ab8e593a00>"
      ]
     },
     "execution_count": 8,
     "metadata": {},
     "output_type": "execute_result"
    },
    {
     "data": {
      "image/png": "[encoded data removed]",
      "text/plain": [
       "<Figure size 432x288 with 1 Axes>"
      ]
     },
     "metadata": {
      "needs_background": "light"
     },
     "output_type": "display_data"
    }
   ],
   "source": [
    "datos_2015[datos_2015['Pago']>\n",
    "           datos_2015['Pago'].mean()]['Pago'].sort_index().plot.hist()\n",
    "datos_2016[datos_2016['Pago']>\n",
    "           datos_2016['Pago'].mean()]['Pago'].sort_index().plot.hist()\n",
    "datos_2017[datos_2017['Pago']>\n",
    "           datos_2017['Pago'].mean()]['Pago'].sort_index().plot.hist()\n",
    "datos_2018[datos_2018['Pago']>\n",
    "           datos_2018['Pago'].mean()]['Pago'].sort_index().plot.hist()\n",
    "plt.legend(['2015','2016','2017','2018'])"
   ]
  },
  {
   "cell_type": "markdown",
   "metadata": {},
   "source": [
    "Conclusión: La gráfica anterior nos muestra la cantidad de datos por arriba del promedio de dicho año, dicho dato nos ayuda a visualizar que los años 2015,2016 y 2018 son parejos entre sí y mantienen una uniformidad en la distribución de sus datos, mientras que el año 2017 tiene mayor cantidad por la media que los demás, lo cual indica una dispersión mayor y valores atípicos."
   ]
  },
  {
   "cell_type": "markdown",
   "metadata": {},
   "source": [
    "GRÁFICA 4:"
   ]
  },
  {
   "cell_type": "code",
   "execution_count": 9,
   "metadata": {},
   "outputs": [
    {
     "data": {
      "text/plain": [
       "<matplotlib.axes._subplots.AxesSubplot at 0x1ab8e7c3b20>"
      ]
     },
     "execution_count": 9,
     "metadata": {},
     "output_type": "execute_result"
    },
    {
     "data": {
      "image/png": "[encoded data removed]",
      "text/plain": [
       "<Figure size 432x288 with 1 Axes>"
      ]
     },
     "metadata": {
      "needs_background": "light"
     },
     "output_type": "display_data"
    }
   ],
   "source": [
    "frecuencia={'frecuencias':[datos_diseases['Number of claims'].sum(),datos_2015['Pago'].count(),datos_2016['Pago'].count()\n",
    "                           ,datos_2017['Pago'].count(),datos_2018['Pago'].count()], 'años':[2019,2015,2016,2017,2018],\n",
    "           'Pago(millones)':[0,datos_2015['Pago'].sum()/10**6,datos_2016['Pago'].sum()/10**6,datos_2017['Pago'].sum()/10**6,datos_2018['Pago'].sum()/10**6]}\n",
    "frecuencia_frame=pd.DataFrame(frecuencia)\n",
    "frecuencia_frame\n",
    "\n",
    "sns.barplot(x='años', y='frecuencias', data=frecuencia_frame)                                                                      "
   ]
  },
  {
   "cell_type": "markdown",
   "metadata": {},
   "source": [
    "Conclusión: Del año 2018 al 2019 (año actual estudiado) histórico, ha mantenidouna morbilidad un tanto uniforme, teniendo una cantidad total de reclamaciones un poco volátiles, siendo esto tal vez un indicador de que la frecuencia estimada es correcta, sin embargo, se requieren más estudios para aceptar dicha hipótesis.  "
   ]
  },
  {
   "cell_type": "markdown",
   "metadata": {},
   "source": [
    "GRÁFICA 5:"
   ]
  },
  {
   "cell_type": "code",
   "execution_count": 10,
   "metadata": {},
   "outputs": [
    {
     "data": {
      "image/png": "[encoded data removed]",
      "text/plain": [
       "<Figure size 405.25x360 with 1 Axes>"
      ]
     },
     "metadata": {},
     "output_type": "display_data"
    }
   ],
   "source": [
    "with sns.axes_style('white'):\n",
    "    g = sns.catplot(\"Año\", data=datos_all, aspect=1, kind='count', legend=True,\n",
    "                       hue='Grupo', order=range(2015, 2019))\n",
    "    g.set_ylabels('Pago')"
   ]
  },
  {
   "cell_type": "markdown",
   "metadata": {},
   "source": [
    "Conclusión: Del año 2015 al 2018 en el número de pagos por Grupo, tenemos que de los 4 Grupos observados, el I es el más volatil de, sin embargo por sus límite inferior y superior no representa un costo excesivo para la aseguradora, esto podría repetirse para el Grupo II, sin embargo para el Grupo III y IV, la mínima volatilidad en el pasar de los años representa un riesgo para la empresa debido a la cantidad monetaria que representa un siniestro perteneciente a dichos grupos, en el caso del año 2017, el grupo 3 es mucho mayor a los años anteriores, por lo que la severidad aumentó en gran medida y para el año 2018 fue el mismo caso pero con el Grupo IV, lo cual puede representar un mayor gasto."
   ]
  },
  {
   "cell_type": "code",
   "execution_count": null,
   "metadata": {},
   "outputs": [],
   "source": []
  }
 ],
 "metadata": {
  "kernelspec": {
   "display_name": "Python 3",
   "language": "python",
   "name": "python3"
  },
  "language_info": {
   "codemirror_mode": {
    "name": "ipython",
    "version": 3
   },
   "file_extension": ".py",
   "mimetype": "text/x-python",
   "name": "python",
   "nbconvert_exporter": "python",
   "pygments_lexer": "ipython3",
   "version": "3.8.3"
  }
 },
 "nbformat": 4,
 "nbformat_minor": 4
}
