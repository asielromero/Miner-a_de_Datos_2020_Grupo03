{
 "cells": [
  {
   "cell_type": "markdown",
   "metadata": {},
   "source": [
    "EJERCICIO 1: Tuplas"
   ]
  },
  {
   "cell_type": "code",
   "execution_count": 3,
   "metadata": {},
   "outputs": [
    {
     "name": "stdout",
     "output_type": "stream",
     "text": [
      "10.005     su tipo es <class 'float'>\n",
      "5     su tipo es <class 'int'>\n",
      "False     su tipo es <class 'bool'>\n",
      "9j     su tipo es <class 'complex'>\n",
      "El primer valor es: 1\n",
      "El último valor es: 10\n",
      "[1, 2, 3, 4, 5, 6, 7, 8, 9, 10, 'Uno', 'Dos', 'Tres']\n",
      "Verificame si existe mi valor: 1\n",
      "El valor 1 está dentro de la tupla\n"
     ]
    }
   ],
   "source": [
    "Tipos=(10.005,5,False,9j)\n",
    "for i in range (len(Tipos)):\n",
    "    print(Tipos[i], \"    su tipo es\", type(Tipos[i]))\n",
    "\n",
    "Enteros=(1,2,3,4,5,6,7,8,9,10)\n",
    "print (\"El primer valor es:\", Enteros[0])\n",
    "print (\"El último valor es:\", Enteros[len(Enteros)-1])\n",
    "\n",
    "\n",
    "Enteros_3string=list(Enteros)\n",
    "Enteros_3string.append(\"Uno\")\n",
    "Enteros_3string.append(\"Dos\")\n",
    "Enteros_3string.append(\"Tres\")\n",
    "\n",
    "Enteros_nuevo= tuple(Enteros_3string)\n",
    "print(Enteros_3string)\n",
    "\n",
    "\n",
    "ayuda=0\n",
    "Valor= int(input(\"Verificame si existe mi valor: \"))\n",
    "\n",
    "for i in range (len(Enteros_nuevo)):\n",
    "    if Valor==Enteros_nuevo[i]:\n",
    "        ayuda=ayuda+1\n",
    "        \n",
    "if ayuda==0:\n",
    "    print(\"El valor\", Valor, \"no está dentro de la tupla\")\n",
    "else:\n",
    "    print(\"El valor\", Valor, \"está dentro de la tupla\")"
   ]
  },
  {
   "cell_type": "markdown",
   "metadata": {},
   "source": [
    "EJERCICIO 2: Listas"
   ]
  },
  {
   "cell_type": "code",
   "execution_count": 22,
   "metadata": {},
   "outputs": [
    {
     "name": "stdout",
     "output_type": "stream",
     "text": [
      "[4, 78, 95, 32, 67, 49, 30, 42, 3, 51, 92, 87, 27, 23, 43, 33, 42, 32, 76, 86, 50, 54, 23, 88, 10, 51, 57, 48, 86, 54, 38, 79, 36, 27, 30, 63, 20, 82, 52, 13]\n",
      "Lista pares: [4, 78, 32, 30, 42, 92, 42, 32, 76, 86, 50, 54, 88, 10, 48, 86, 54, 38, 36, 30, 20, 82, 52]\n",
      "Lista impares: [3, 13, 23, 23, 27, 27, 33, 43, 49, 51, 51, 57, 63, 67, 79, 87, 95]\n",
      "La longitud de la lista es: 40\n",
      "El número más grande es: 95\n",
      "El número más pequeño es:  3\n",
      "La sumatoria de todos los números es: 1953\n"
     ]
    }
   ],
   "source": [
    "import random as r\n",
    "i=0\n",
    "Lista=[]\n",
    "\n",
    "for i in range(40):\n",
    "    Lista.append(r.randint(1,100))\n",
    "print(Lista)\n",
    "\n",
    "def par_impar(l):\n",
    "    i=0\n",
    "    Pares=[]\n",
    "    Impares=[]\n",
    "    for i in range(40):\n",
    "        if Lista[i] % 2 == 0:\n",
    "            Pares.append(Lista[i])\n",
    "        else:\n",
    "            Impares.append(Lista[i])\n",
    "    \n",
    "    sorted(Pares, reverse=True)\n",
    "    Impares.sort()\n",
    "    \n",
    "    print('Lista pares:', Pares)\n",
    "    print('Lista impares:', Impares)\n",
    "\n",
    "par_impar(Lista)\n",
    "\n",
    "\n",
    "print(\"La longitud de la lista es:\", len(Lista))\n",
    "print(\"El número más grande es:\", max(Lista))\n",
    "print(\"El número más pequeño es: \", min(Lista))\n",
    "print(\"La sumatoria de todos los números es:\", sum(Lista))"
   ]
  },
  {
   "cell_type": "markdown",
   "metadata": {},
   "source": [
    "EJERCICIO 3: Diccionarios"
   ]
  },
  {
   "cell_type": "code",
   "execution_count": 4,
   "metadata": {},
   "outputs": [
    {
     "name": "stdout",
     "output_type": "stream",
     "text": [
      "Aurelio\n",
      "Carmen\n",
      "Carlos\n",
      "Natalia\n",
      "Marco\n",
      "Mildred\n"
     ]
    }
   ],
   "source": [
    "Familia={'Aurelio':60,'Carmen':59,'Carlos':30,'Natalia':29,'Marco':23,'Mildred':14}\n",
    "Edades=[Familia['Aurelio'],Familia['Carmen'],Familia['Carlos'],Familia['Natalia'],Familia['Marco'],Familia['Mildred']]\n",
    "Edades.sort()\n",
    " \n",
    "for Nombres in Familia:\n",
    "    print(Nombres) \n",
    "    \n",
    "Familia['Hugo']=31\n",
    "Familia['Gaby']=29"
   ]
  },
  {
   "cell_type": "markdown",
   "metadata": {},
   "source": [
    "EJERCICIO 4: Sets"
   ]
  },
  {
   "cell_type": "code",
   "execution_count": 10,
   "metadata": {},
   "outputs": [
    {
     "name": "stdout",
     "output_type": "stream",
     "text": [
      "{1, 2, 3, 4, 5, 6, 7, 8, 9, 10, 11, 12, 13, 14, 15, 16, 17, 18, 19, 20, 21, 22, 23, 25}\n",
      "24\n",
      "{9, 2, 3}\n",
      "True\n"
     ]
    }
   ],
   "source": [
    "import random\n",
    "i=0\n",
    "Set1_25=set()\n",
    "\n",
    "for i in range(100):\n",
    "    Set1_25.add(random.randint(1,25))\n",
    "    \n",
    "print(Set1_25)\n",
    "print(len(Set1_25))\n",
    "\n",
    "Set1_10=set()\n",
    "\n",
    "for i in range(6):\n",
    "    Set1_10.add(random.randint(1,10))\n",
    "print(Set1_10)\n",
    "\n",
    "print(Set1_10.issubset(Set1_25))"
   ]
  },
  {
   "cell_type": "code",
   "execution_count": null,
   "metadata": {},
   "outputs": [],
   "source": []
  },
  {
   "cell_type": "code",
   "execution_count": null,
   "metadata": {},
   "outputs": [],
   "source": []
  }
 ],
 "metadata": {
  "kernelspec": {
   "display_name": "Python 3",
   "language": "python",
   "name": "python3"
  },
  "language_info": {
   "codemirror_mode": {
    "name": "ipython",
    "version": 3
   },
   "file_extension": ".py",
   "mimetype": "text/x-python",
   "name": "python",
   "nbconvert_exporter": "python",
   "pygments_lexer": "ipython3",
   "version": "3.8.3"
  }
 },
 "nbformat": 4,
 "nbformat_minor": 4
}
